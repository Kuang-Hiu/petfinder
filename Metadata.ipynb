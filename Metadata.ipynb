{
 "cells": [
  {
   "cell_type": "code",
   "execution_count": 1,
   "metadata": {},
   "outputs": [],
   "source": [
    "import numpy as np\n",
    "import pandas as pd\n",
    "import matplotlib.pyplot as plt\n",
    "import seaborn as sns\n",
    "from glob import glob\n",
    "import json\n",
    "import cv2"
   ]
  },
  {
   "cell_type": "code",
   "execution_count": 2,
   "metadata": {},
   "outputs": [],
   "source": [
    "train_df = pd.read_csv('./train/train.csv').drop(columns=['RescuerID', 'Description'])"
   ]
  },
  {
   "cell_type": "code",
   "execution_count": 3,
   "metadata": {},
   "outputs": [],
   "source": [
    "#df = train_df.merge(train_meta_df[['PetID', 'meta_label']], on='PetID', how='outer')"
   ]
  },
  {
   "cell_type": "code",
   "execution_count": 3,
   "metadata": {},
   "outputs": [
    {
     "data": {
      "text/html": [
       "<div>\n",
       "<style scoped>\n",
       "    .dataframe tbody tr th:only-of-type {\n",
       "        vertical-align: middle;\n",
       "    }\n",
       "\n",
       "    .dataframe tbody tr th {\n",
       "        vertical-align: top;\n",
       "    }\n",
       "\n",
       "    .dataframe thead th {\n",
       "        text-align: right;\n",
       "    }\n",
       "</style>\n",
       "<table border=\"1\" class=\"dataframe\">\n",
       "  <thead>\n",
       "    <tr style=\"text-align: right;\">\n",
       "      <th></th>\n",
       "      <th>file</th>\n",
       "      <th>PetID</th>\n",
       "      <th>AdoptionSpeed</th>\n",
       "    </tr>\n",
       "  </thead>\n",
       "  <tbody>\n",
       "    <tr>\n",
       "      <th>14647</th>\n",
       "      <td>./train_metadata/fff4a6420-1.json</td>\n",
       "      <td>fff4a6420</td>\n",
       "      <td>2</td>\n",
       "    </tr>\n",
       "    <tr>\n",
       "      <th>14648</th>\n",
       "      <td>./train_metadata/fff6f2f61-1.json</td>\n",
       "      <td>fff6f2f61</td>\n",
       "      <td>2</td>\n",
       "    </tr>\n",
       "    <tr>\n",
       "      <th>14649</th>\n",
       "      <td>./train_metadata/fffa39a6a-1.json</td>\n",
       "      <td>fffa39a6a</td>\n",
       "      <td>3</td>\n",
       "    </tr>\n",
       "    <tr>\n",
       "      <th>14650</th>\n",
       "      <td>./train_metadata/fffd78a11-1.json</td>\n",
       "      <td>fffd78a11</td>\n",
       "      <td>2</td>\n",
       "    </tr>\n",
       "    <tr>\n",
       "      <th>14651</th>\n",
       "      <td>./train_metadata/fffd9b5a8-1.json</td>\n",
       "      <td>fffd9b5a8</td>\n",
       "      <td>1</td>\n",
       "    </tr>\n",
       "  </tbody>\n",
       "</table>\n",
       "</div>"
      ],
      "text/plain": [
       "                                    file      PetID  AdoptionSpeed\n",
       "14647  ./train_metadata/fff4a6420-1.json  fff4a6420              2\n",
       "14648  ./train_metadata/fff6f2f61-1.json  fff6f2f61              2\n",
       "14649  ./train_metadata/fffa39a6a-1.json  fffa39a6a              3\n",
       "14650  ./train_metadata/fffd78a11-1.json  fffd78a11              2\n",
       "14651  ./train_metadata/fffd9b5a8-1.json  fffd9b5a8              1"
      ]
     },
     "execution_count": 3,
     "metadata": {},
     "output_type": "execute_result"
    }
   ],
   "source": [
    "train_meta_df = pd.DataFrame(glob('./train_metadata/*-1.json'), columns=['file'])\n",
    "train_meta_df.file = train_meta_df.file.apply(lambda x: x.replace('\\\\','/'))\n",
    "train_meta_df['PetID'] = train_meta_df.file.apply(lambda x: x.split('/')[-1].split('-')[0])\n",
    "train_meta_df = train_meta_df.merge(train_df[['PetID', 'AdoptionSpeed']], on='PetID')\n",
    "\n",
    "test_meta_df = pd.DataFrame(glob('./test_metadata/*-1.json'), columns=['file'])\n",
    "test_meta_df.file = test_meta_df.file.apply(lambda x: x.replace('\\\\','/'))\n",
    "test_meta_df['PetID'] = test_meta_df.file.apply(lambda x: x.split('/')[-1].split('-')[0])\n",
    "\n",
    "train_meta_df.tail()"
   ]
  },
  {
   "cell_type": "code",
   "execution_count": 4,
   "metadata": {},
   "outputs": [],
   "source": [
    "def read_json(path):\n",
    "    with open(path, encoding='utf8') as f:\n",
    "        img = json.load(f)\n",
    "        return tuple(img.keys())"
   ]
  },
  {
   "cell_type": "code",
   "execution_count": 6,
   "metadata": {},
   "outputs": [],
   "source": [
    "train_meta = []\n",
    "for path in train_meta_df.file.values:\n",
    "    train_meta.append(read_json(path))"
   ]
  },
  {
   "cell_type": "code",
   "execution_count": 7,
   "metadata": {},
   "outputs": [],
   "source": [
    "from collections import Counter"
   ]
  },
  {
   "cell_type": "code",
   "execution_count": 8,
   "metadata": {},
   "outputs": [
    {
     "data": {
      "text/plain": [
       "Counter({('labelAnnotations',\n",
       "          'imagePropertiesAnnotation',\n",
       "          'cropHintsAnnotation'): 13391,\n",
       "         ('faceAnnotations',\n",
       "          'labelAnnotations',\n",
       "          'textAnnotations',\n",
       "          'imagePropertiesAnnotation',\n",
       "          'cropHintsAnnotation'): 15,\n",
       "         ('labelAnnotations',\n",
       "          'textAnnotations',\n",
       "          'imagePropertiesAnnotation',\n",
       "          'cropHintsAnnotation'): 1060,\n",
       "         ('faceAnnotations',\n",
       "          'labelAnnotations',\n",
       "          'imagePropertiesAnnotation',\n",
       "          'cropHintsAnnotation'): 184,\n",
       "         ('imagePropertiesAnnotation', 'cropHintsAnnotation'): 2})"
      ]
     },
     "execution_count": 8,
     "metadata": {},
     "output_type": "execute_result"
    }
   ],
   "source": [
    "Counter(train_meta)"
   ]
  },
  {
   "cell_type": "code",
   "execution_count": 9,
   "metadata": {},
   "outputs": [
    {
     "data": {
      "text/plain": [
       "8"
      ]
     },
     "execution_count": 9,
     "metadata": {},
     "output_type": "execute_result"
    }
   ],
   "source": [
    "train_meta.index(('faceAnnotations',\n",
    "  'labelAnnotations',\n",
    "  'textAnnotations',\n",
    "  'imagePropertiesAnnotation',\n",
    "  'cropHintsAnnotation'))"
   ]
  },
  {
   "cell_type": "code",
   "execution_count": 10,
   "metadata": {},
   "outputs": [
    {
     "data": {
      "text/plain": [
       "'./train_metadata/002278114-1.json'"
      ]
     },
     "execution_count": 10,
     "metadata": {},
     "output_type": "execute_result"
    }
   ],
   "source": [
    "train_meta_df.file.values[8]"
   ]
  },
  {
   "cell_type": "code",
   "execution_count": 11,
   "metadata": {},
   "outputs": [
    {
     "data": {
      "image/jpeg": "[encoded data removed]",
      "text/plain": [
       "<IPython.core.display.Image object>"
      ]
     },
     "execution_count": 11,
     "metadata": {},
     "output_type": "execute_result"
    }
   ],
   "source": [
    "from IPython.display import Image\n",
    "Image(filename='./train_images/002278114-1.jpg') "
   ]
  },
  {
   "cell_type": "code",
   "execution_count": 12,
   "metadata": {},
   "outputs": [],
   "source": [
    "with open(train_meta_df.file.values[8], encoding='utf8') as f:\n",
    "    img = json.load(f)"
   ]
  },
  {
   "cell_type": "markdown",
   "metadata": {},
   "source": [
    "### 1. Label Annotations"
   ]
  },
  {
   "cell_type": "code",
   "execution_count": 13,
   "metadata": {},
   "outputs": [
    {
     "data": {
      "text/plain": [
       "[{'mid': '/m/06z04',\n",
       "  'description': 'skin',\n",
       "  'score': 0.9343813,\n",
       "  'topicality': 0.9343813},\n",
       " {'mid': '/m/04rky',\n",
       "  'description': 'mammal',\n",
       "  'score': 0.9255103,\n",
       "  'topicality': 0.9255103},\n",
       " {'mid': '/m/01fklc',\n",
       "  'description': 'pink',\n",
       "  'score': 0.9227359,\n",
       "  'topicality': 0.9227359},\n",
       " {'mid': '/m/01ssh5',\n",
       "  'description': 'shoulder',\n",
       "  'score': 0.8472857,\n",
       "  'topicality': 0.8472857},\n",
       " {'mid': '/m/0ds99lh',\n",
       "  'description': 'fun',\n",
       "  'score': 0.77706194,\n",
       "  'topicality': 0.77706194},\n",
       " {'mid': '/m/01jwgf',\n",
       "  'description': 'product',\n",
       "  'score': 0.7731236,\n",
       "  'topicality': 0.7731236},\n",
       " {'mid': '/m/0dnr7',\n",
       "  'description': 'textile',\n",
       "  'score': 0.77043915,\n",
       "  'topicality': 0.77043915},\n",
       " {'mid': '/m/05r655',\n",
       "  'description': 'girl',\n",
       "  'score': 0.76554036,\n",
       "  'topicality': 0.76554036},\n",
       " {'mid': '/m/019nj4',\n",
       "  'description': 'smile',\n",
       "  'score': 0.7594943,\n",
       "  'topicality': 0.7594943},\n",
       " {'mid': '/m/09cx8',\n",
       "  'description': 'finger',\n",
       "  'score': 0.7216351,\n",
       "  'topicality': 0.7216351}]"
      ]
     },
     "execution_count": 13,
     "metadata": {},
     "output_type": "execute_result"
    }
   ],
   "source": [
    "img['labelAnnotations']"
   ]
  },
  {
   "cell_type": "code",
   "execution_count": 14,
   "metadata": {},
   "outputs": [],
   "source": [
    "def read_label(path):\n",
    "    with open(path, encoding='utf8') as f:\n",
    "        img = json.load(f)\n",
    "        if 'labelAnnotations' in img.keys():            \n",
    "            label = img['labelAnnotations'][0]['description']\n",
    "        else:\n",
    "            return\n",
    "    return label"
   ]
  },
  {
   "cell_type": "code",
   "execution_count": 15,
   "metadata": {},
   "outputs": [],
   "source": [
    "train_meta_df['meta_label'] = train_meta_df.file.apply(read_label)\n",
    "test_meta_df['meta_label'] = test_meta_df.file.apply(read_label)"
   ]
  },
  {
   "cell_type": "code",
   "execution_count": 16,
   "metadata": {},
   "outputs": [
    {
     "data": {
      "text/plain": [
       "array(['cat', 'dog', 'fauna', 'skin', 'dog breed', 'dog like mammal',\n",
       "       'animal shelter', 'blue', 'small to medium sized cats', 'black',\n",
       "       'plant', 'dog breed group', 'floor', 'beagle', 'bull terrier',\n",
       "       'mammal', 'volpino italiano', 'guinea pig', 'nature reserve',\n",
       "       'light', 'cage', 'pug', 'siberian husky', 'car', 'wildlife', 'leg',\n",
       "       'hand', 'face', 'facial expression', 'basset hound', 'snout',\n",
       "       'photo caption', 'road', 'iron', 'stuffed toy', 'textile',\n",
       "       'structure', 'product', 'street dog', 'vertebrate', 'furniture',\n",
       "       'red', 'yellow', 'fashion accessory', 'nose', 'room',\n",
       "       'cat like mammal', 'electronic device', 'text', 'rock', 'fur',\n",
       "       'hair', 'tail', 'white', 'grass', 'stairs', 'kennel', 'footwear',\n",
       "       'people', None, 'ear', 'wood', 'collage', 'whiskers', 'window',\n",
       "       'plush', 'clothing', 'black cat', 'boston terrier', 'pink',\n",
       "       'property', 'tire', 'tree', 'meal', 'facial hair', 'table',\n",
       "       'snapshot', 'road bicycle', 'czechoslovakian wolfdog',\n",
       "       'dog clothes', 'wheel'], dtype=object)"
      ]
     },
     "execution_count": 16,
     "metadata": {},
     "output_type": "execute_result"
    }
   ],
   "source": [
    "train_meta_df.meta_label.unique()"
   ]
  },
  {
   "cell_type": "code",
   "execution_count": 18,
   "metadata": {},
   "outputs": [],
   "source": [
    "animal_label = ['cat', 'dog', 'fauna', 'dog breed', 'dog like mammal', 'animal shelter', 'small to medium sized cats',\n",
    "               'dog breed group', 'bull terrier', 'mammal', 'volpino italiano', 'pug', 'siberian husky', 'basset hound',\n",
    "               'street dog', 'cat like mammal', 'black cat', 'boston terrier', 'czechoslovakian wolfdog', 'dog clothes']\n",
    "non_animal_label = set(train_meta_df.meta_label.unique()) ^ set(animal_label)"
   ]
  },
  {
   "cell_type": "code",
   "execution_count": 19,
   "metadata": {},
   "outputs": [
    {
     "name": "stdout",
     "output_type": "stream",
     "text": [
      "{'skin', 'car', 'fur', 'structure', 'tail', 'textile', 'wood', 'snout', 'photo caption', 'plant', 'hair', 'collage', 'snapshot', 'light', 'facial hair', 'stairs', 'leg', 'guinea pig', 'fashion accessory', 'white', 'blue', 'road', 'product', 'text', 'wildlife', 'clothing', 'nose', 'nature reserve', 'people', 'whiskers', None, 'electronic device', 'ear', 'window', 'property', 'cage', 'face', 'road bicycle', 'rock', 'plush', 'wheel', 'table', 'footwear', 'beagle', 'tire', 'black', 'floor', 'room', 'meal', 'yellow', 'facial expression', 'stuffed toy', 'iron', 'tree', 'grass', 'vertebrate', 'red', 'furniture', 'hand', 'pink', 'kennel'}\n"
     ]
    }
   ],
   "source": [
    "print(non_animal_label)"
   ]
  },
  {
   "cell_type": "code",
   "execution_count": 20,
   "metadata": {},
   "outputs": [
    {
     "data": {
      "text/html": [
       "<div>\n",
       "<style scoped>\n",
       "    .dataframe tbody tr th:only-of-type {\n",
       "        vertical-align: middle;\n",
       "    }\n",
       "\n",
       "    .dataframe tbody tr th {\n",
       "        vertical-align: top;\n",
       "    }\n",
       "\n",
       "    .dataframe thead th {\n",
       "        text-align: right;\n",
       "    }\n",
       "</style>\n",
       "<table border=\"1\" class=\"dataframe\">\n",
       "  <thead>\n",
       "    <tr style=\"text-align: right;\">\n",
       "      <th></th>\n",
       "      <th>file</th>\n",
       "      <th>PetID</th>\n",
       "      <th>AdoptionSpeed</th>\n",
       "      <th>meta_label</th>\n",
       "      <th>animal_label</th>\n",
       "    </tr>\n",
       "  </thead>\n",
       "  <tbody>\n",
       "    <tr>\n",
       "      <th>14647</th>\n",
       "      <td>./train_metadata/fff4a6420-1.json</td>\n",
       "      <td>fff4a6420</td>\n",
       "      <td>2</td>\n",
       "      <td>dog</td>\n",
       "      <td>1</td>\n",
       "    </tr>\n",
       "    <tr>\n",
       "      <th>14648</th>\n",
       "      <td>./train_metadata/fff6f2f61-1.json</td>\n",
       "      <td>fff6f2f61</td>\n",
       "      <td>2</td>\n",
       "      <td>dog</td>\n",
       "      <td>1</td>\n",
       "    </tr>\n",
       "    <tr>\n",
       "      <th>14649</th>\n",
       "      <td>./train_metadata/fffa39a6a-1.json</td>\n",
       "      <td>fffa39a6a</td>\n",
       "      <td>3</td>\n",
       "      <td>cat</td>\n",
       "      <td>1</td>\n",
       "    </tr>\n",
       "    <tr>\n",
       "      <th>14650</th>\n",
       "      <td>./train_metadata/fffd78a11-1.json</td>\n",
       "      <td>fffd78a11</td>\n",
       "      <td>2</td>\n",
       "      <td>cat</td>\n",
       "      <td>1</td>\n",
       "    </tr>\n",
       "    <tr>\n",
       "      <th>14651</th>\n",
       "      <td>./train_metadata/fffd9b5a8-1.json</td>\n",
       "      <td>fffd9b5a8</td>\n",
       "      <td>1</td>\n",
       "      <td>dog like mammal</td>\n",
       "      <td>1</td>\n",
       "    </tr>\n",
       "  </tbody>\n",
       "</table>\n",
       "</div>"
      ],
      "text/plain": [
       "                                    file      PetID  AdoptionSpeed  \\\n",
       "14647  ./train_metadata/fff4a6420-1.json  fff4a6420              2   \n",
       "14648  ./train_metadata/fff6f2f61-1.json  fff6f2f61              2   \n",
       "14649  ./train_metadata/fffa39a6a-1.json  fffa39a6a              3   \n",
       "14650  ./train_metadata/fffd78a11-1.json  fffd78a11              2   \n",
       "14651  ./train_metadata/fffd9b5a8-1.json  fffd9b5a8              1   \n",
       "\n",
       "            meta_label  animal_label  \n",
       "14647              dog             1  \n",
       "14648              dog             1  \n",
       "14649              cat             1  \n",
       "14650              cat             1  \n",
       "14651  dog like mammal             1  "
      ]
     },
     "execution_count": 20,
     "metadata": {},
     "output_type": "execute_result"
    }
   ],
   "source": [
    "train_meta_df['animal_label'] = train_meta_df.meta_label.apply(lambda x: 1 if x in animal_label else 0)\n",
    "test_meta_df['animal_label'] = test_meta_df.meta_label.apply(lambda x: 1 if x in animal_label else 0)\n",
    "train_meta_df.tail()"
   ]
  },
  {
   "cell_type": "code",
   "execution_count": 26,
   "metadata": {},
   "outputs": [
    {
     "data": {
      "text/plain": [
       "Text(0.5, 1.0, 'image with non-aninmal label')"
      ]
     },
     "execution_count": 26,
     "metadata": {},
     "output_type": "execute_result"
    },
    {
     "data": {
      "image/png": "[encoded data removed]",
      "text/plain": [
       "<Figure size 864x288 with 2 Axes>"
      ]
     },
     "metadata": {
      "needs_background": "light"
     },
     "output_type": "display_data"
    }
   ],
   "source": [
    "plt.figure(figsize=(12, 4))\n",
    "plt.subplot(121)\n",
    "sns.countplot(x='AdoptionSpeed', data=train_meta_df.loc[train_meta_df.animal_label == 1])\n",
    "plt.title('image with aninmal label')\n",
    "plt.subplot(122)\n",
    "sns.countplot(x='AdoptionSpeed', data=train_meta_df.loc[train_meta_df.animal_label == 0])\n",
    "plt.title('image with non-aninmal label')"
   ]
  },
  {
   "cell_type": "markdown",
   "metadata": {},
   "source": [
    "### 2. Image Properties Annotation"
   ]
  },
  {
   "cell_type": "code",
   "execution_count": 22,
   "metadata": {},
   "outputs": [
    {
     "data": {
      "text/plain": [
       "[{'color': {'red': 196, 'green': 198, 'blue': 197},\n",
       "  'score': 0.14477752,\n",
       "  'pixelFraction': 0.1623112},\n",
       " {'color': {'red': 114, 'green': 116, 'blue': 115},\n",
       "  'score': 0.102673166,\n",
       "  'pixelFraction': 0.13497962},\n",
       " {'color': {'red': 176, 'green': 159, 'blue': 133},\n",
       "  'score': 0.080558434,\n",
       "  'pixelFraction': 0.050827138},\n",
       " {'color': {'red': 211, 'green': 133, 'blue': 164},\n",
       "  'score': 0.03760698,\n",
       "  'pixelFraction': 0.023735315},\n",
       " {'color': {'red': 218, 'green': 191, 'blue': 93},\n",
       "  'score': 0.036583304,\n",
       "  'pixelFraction': 0.010948613},\n",
       " {'color': {'red': 85, 'green': 87, 'blue': 82},\n",
       "  'score': 0.07329706,\n",
       "  'pixelFraction': 0.08135539},\n",
       " {'color': {'red': 220, 'green': 222, 'blue': 217},\n",
       "  'score': 0.05640333,\n",
       "  'pixelFraction': 0.062015504},\n",
       " {'color': {'red': 49, 'green': 52, 'blue': 48},\n",
       "  'score': 0.05218084,\n",
       "  'pixelFraction': 0.053464398},\n",
       " {'color': {'red': 156, 'green': 156, 'blue': 154},\n",
       "  'score': 0.038967233,\n",
       "  'pixelFraction': 0.04419404},\n",
       " {'color': {'red': 228, 'green': 183, 'blue': 200},\n",
       "  'score': 0.029878583,\n",
       "  'pixelFraction': 0.020218972}]"
      ]
     },
     "execution_count": 22,
     "metadata": {},
     "output_type": "execute_result"
    }
   ],
   "source": [
    "img['imagePropertiesAnnotation']['dominantColors']['colors']"
   ]
  },
  {
   "cell_type": "code",
   "execution_count": 48,
   "metadata": {},
   "outputs": [],
   "source": [
    "def dominant_color(path):\n",
    "    with open(path, encoding='utf8') as f:\n",
    "        img = json.load(f)           \n",
    "        color = img['imagePropertiesAnnotation']['dominantColors']['colors'][0]['color']\n",
    "    return max(color, key=color.get)"
   ]
  },
  {
   "cell_type": "code",
   "execution_count": 50,
   "metadata": {},
   "outputs": [
    {
     "data": {
      "text/plain": [
       "Counter({'red': 11542, 'blue': 1761, 'green': 1349})"
      ]
     },
     "execution_count": 50,
     "metadata": {},
     "output_type": "execute_result"
    }
   ],
   "source": [
    "dominant_color_cnt = Counter(train_meta_df.file.apply(dominant_color))\n",
    "dominant_color_cnt"
   ]
  },
  {
   "cell_type": "code",
   "execution_count": 77,
   "metadata": {},
   "outputs": [
    {
     "data": {
      "text/plain": [
       "<AxesSubplot:>"
      ]
     },
     "execution_count": 77,
     "metadata": {},
     "output_type": "execute_result"
    },
    {
     "data": {
      "image/png": "[encoded data removed]",
      "text/plain": [
       "<Figure size 432x288 with 1 Axes>"
      ]
     },
     "metadata": {
      "needs_background": "light"
     },
     "output_type": "display_data"
    }
   ],
   "source": [
    "sns.barplot(x=list(dominant_color_cnt.keys()), y=list(dominant_color_cnt.values()), palette=[\"C3\", \"C0\", \"C2\"])"
   ]
  },
  {
   "cell_type": "code",
   "execution_count": 25,
   "metadata": {},
   "outputs": [],
   "source": [
    "train_meta_df['dominant_color'] = train_meta_df.file.apply(dominant_color)"
   ]
  },
  {
   "cell_type": "code",
   "execution_count": 26,
   "metadata": {},
   "outputs": [],
   "source": [
    "group_color = train_meta_df.groupby(['AdoptionSpeed', 'dominant_color'])['PetID'].count()\n",
    "group_color = group_color.reset_index(level=['AdoptionSpeed', 'dominant_color'])"
   ]
  },
  {
   "cell_type": "code",
   "execution_count": 27,
   "metadata": {},
   "outputs": [],
   "source": [
    "dominant_blue = group_color.iloc[range(0,len(group_color),3)].PetID\n",
    "dominant_green = group_color.iloc[range(1,len(group_color),3)].PetID\n",
    "dominant_red = group_color.iloc[range(2,len(group_color),3)].PetID\n",
    "\n",
    "dominant_blue = dominant_blue/dominant_blue.mean()\n",
    "dominant_green = dominant_green/dominant_green.mean()\n",
    "dominant_red = dominant_red/dominant_red.mean()"
   ]
  },
  {
   "cell_type": "code",
   "execution_count": 28,
   "metadata": {},
   "outputs": [
    {
     "data": {
      "text/plain": [
       "<matplotlib.legend.Legend at 0x2468e417548>"
      ]
     },
     "execution_count": 28,
     "metadata": {},
     "output_type": "execute_result"
    },
    {
     "data": {
      "image/png": "[encoded data removed]",
      "text/plain": [
       "<Figure size 432x288 with 1 Axes>"
      ]
     },
     "metadata": {
      "needs_background": "light"
     },
     "output_type": "display_data"
    }
   ],
   "source": [
    "labels = [0,1,2,3,4]\n",
    "fig, ax = plt.subplots()\n",
    "x = np.arange(len(labels))\n",
    "width = 0.25\n",
    "rects1 = ax.bar(x - width, dominant_blue, width, label='blue')\n",
    "rects2 = ax.bar(x, dominant_red, width, label='red')\n",
    "rects3 = ax.bar(x + width, dominant_green, width, label='green')\n",
    "ax.legend()"
   ]
  },
  {
   "cell_type": "code",
   "execution_count": 29,
   "metadata": {},
   "outputs": [],
   "source": [
    "def sum_color(path):\n",
    "    with open(path, encoding='utf8') as f:\n",
    "        img = json.load(f)           \n",
    "        total_color = sum(img['imagePropertiesAnnotation']['dominantColors']['colors'][0]['color'].values())\n",
    "    return total_color"
   ]
  },
  {
   "cell_type": "code",
   "execution_count": 30,
   "metadata": {},
   "outputs": [],
   "source": [
    "train_meta_df['sum_color'] = train_meta_df.file.apply(sum_color)"
   ]
  },
  {
   "cell_type": "code",
   "execution_count": 31,
   "metadata": {},
   "outputs": [
    {
     "data": {
      "text/plain": [
       "<matplotlib.axes._subplots.AxesSubplot at 0x2468e260dc8>"
      ]
     },
     "execution_count": 31,
     "metadata": {},
     "output_type": "execute_result"
    },
    {
     "data": {
      "image/png": "[encoded data removed]",
      "text/plain": [
       "<Figure size 432x288 with 1 Axes>"
      ]
     },
     "metadata": {
      "needs_background": "light"
     },
     "output_type": "display_data"
    }
   ],
   "source": [
    "plt.figure(figsize=(6,4))\n",
    "sns.distplot(train_meta_df.loc[train_meta_df.AdoptionSpeed == 4, 'sum_color'], hist=False, label=4)\n",
    "sns.distplot(train_meta_df.loc[train_meta_df.AdoptionSpeed == 3, 'sum_color'], hist=False, label=3)\n",
    "sns.distplot(train_meta_df.loc[train_meta_df.AdoptionSpeed == 2, 'sum_color'], hist=False, label=2)\n",
    "sns.distplot(train_meta_df.loc[train_meta_df.AdoptionSpeed == 1, 'sum_color'], hist=False, label=1)\n",
    "sns.distplot(train_meta_df.loc[train_meta_df.AdoptionSpeed == 0, 'sum_color'], hist=False, label=0)"
   ]
  },
  {
   "cell_type": "code",
   "execution_count": 32,
   "metadata": {},
   "outputs": [
    {
     "data": {
      "text/html": [
       "<div>\n",
       "<style scoped>\n",
       "    .dataframe tbody tr th:only-of-type {\n",
       "        vertical-align: middle;\n",
       "    }\n",
       "\n",
       "    .dataframe tbody tr th {\n",
       "        vertical-align: top;\n",
       "    }\n",
       "\n",
       "    .dataframe thead th {\n",
       "        text-align: right;\n",
       "    }\n",
       "</style>\n",
       "<table border=\"1\" class=\"dataframe\">\n",
       "  <thead>\n",
       "    <tr style=\"text-align: right;\">\n",
       "      <th></th>\n",
       "      <th>file</th>\n",
       "      <th>PetID</th>\n",
       "      <th>AdoptionSpeed</th>\n",
       "      <th>meta_label</th>\n",
       "      <th>animal_label</th>\n",
       "      <th>dominant_color</th>\n",
       "      <th>sum_color</th>\n",
       "    </tr>\n",
       "  </thead>\n",
       "  <tbody>\n",
       "    <tr>\n",
       "      <th>14647</th>\n",
       "      <td>./train_metadata/fff4a6420-1.json</td>\n",
       "      <td>fff4a6420</td>\n",
       "      <td>2</td>\n",
       "      <td>dog</td>\n",
       "      <td>1</td>\n",
       "      <td>red</td>\n",
       "      <td>393</td>\n",
       "    </tr>\n",
       "    <tr>\n",
       "      <th>14648</th>\n",
       "      <td>./train_metadata/fff6f2f61-1.json</td>\n",
       "      <td>fff6f2f61</td>\n",
       "      <td>2</td>\n",
       "      <td>dog</td>\n",
       "      <td>1</td>\n",
       "      <td>red</td>\n",
       "      <td>78</td>\n",
       "    </tr>\n",
       "    <tr>\n",
       "      <th>14649</th>\n",
       "      <td>./train_metadata/fffa39a6a-1.json</td>\n",
       "      <td>fffa39a6a</td>\n",
       "      <td>3</td>\n",
       "      <td>cat</td>\n",
       "      <td>1</td>\n",
       "      <td>red</td>\n",
       "      <td>350</td>\n",
       "    </tr>\n",
       "    <tr>\n",
       "      <th>14650</th>\n",
       "      <td>./train_metadata/fffd78a11-1.json</td>\n",
       "      <td>fffd78a11</td>\n",
       "      <td>2</td>\n",
       "      <td>cat</td>\n",
       "      <td>1</td>\n",
       "      <td>red</td>\n",
       "      <td>719</td>\n",
       "    </tr>\n",
       "    <tr>\n",
       "      <th>14651</th>\n",
       "      <td>./train_metadata/fffd9b5a8-1.json</td>\n",
       "      <td>fffd9b5a8</td>\n",
       "      <td>1</td>\n",
       "      <td>dog like mammal</td>\n",
       "      <td>1</td>\n",
       "      <td>red</td>\n",
       "      <td>356</td>\n",
       "    </tr>\n",
       "  </tbody>\n",
       "</table>\n",
       "</div>"
      ],
      "text/plain": [
       "                                    file      PetID  AdoptionSpeed  \\\n",
       "14647  ./train_metadata/fff4a6420-1.json  fff4a6420              2   \n",
       "14648  ./train_metadata/fff6f2f61-1.json  fff6f2f61              2   \n",
       "14649  ./train_metadata/fffa39a6a-1.json  fffa39a6a              3   \n",
       "14650  ./train_metadata/fffd78a11-1.json  fffd78a11              2   \n",
       "14651  ./train_metadata/fffd9b5a8-1.json  fffd9b5a8              1   \n",
       "\n",
       "            meta_label  animal_label dominant_color  sum_color  \n",
       "14647              dog             1            red        393  \n",
       "14648              dog             1            red         78  \n",
       "14649              cat             1            red        350  \n",
       "14650              cat             1            red        719  \n",
       "14651  dog like mammal             1            red        356  "
      ]
     },
     "execution_count": 32,
     "metadata": {},
     "output_type": "execute_result"
    }
   ],
   "source": [
    "train_meta_df.tail()"
   ]
  },
  {
   "cell_type": "code",
   "execution_count": 33,
   "metadata": {},
   "outputs": [],
   "source": [
    "train_meta_df.drop(columns=['dominant_color', 'sum_color'], inplace=True)"
   ]
  },
  {
   "cell_type": "code",
   "execution_count": 34,
   "metadata": {},
   "outputs": [],
   "source": [
    "def read_dominant_red(path):\n",
    "    with open(path, encoding='utf8') as f:\n",
    "        img = json.load(f)           \n",
    "        red_color = img['imagePropertiesAnnotation']['dominantColors']['colors'][0]['color']['red']\n",
    "    return red_color\n",
    "\n",
    "def read_dominant_green(path):\n",
    "    with open(path, encoding='utf8') as f:\n",
    "        img = json.load(f)           \n",
    "        green_color = img['imagePropertiesAnnotation']['dominantColors']['colors'][0]['color']['green']\n",
    "    return green_color\n",
    "\n",
    "def read_dominant_blue(path):\n",
    "    with open(path, encoding='utf8') as f:\n",
    "        img = json.load(f)           \n",
    "        blue_color = img['imagePropertiesAnnotation']['dominantColors']['colors'][0]['color']['blue']\n",
    "    return blue_color"
   ]
  },
  {
   "cell_type": "code",
   "execution_count": 35,
   "metadata": {},
   "outputs": [
    {
     "data": {
      "text/html": [
       "<div>\n",
       "<style scoped>\n",
       "    .dataframe tbody tr th:only-of-type {\n",
       "        vertical-align: middle;\n",
       "    }\n",
       "\n",
       "    .dataframe tbody tr th {\n",
       "        vertical-align: top;\n",
       "    }\n",
       "\n",
       "    .dataframe thead th {\n",
       "        text-align: right;\n",
       "    }\n",
       "</style>\n",
       "<table border=\"1\" class=\"dataframe\">\n",
       "  <thead>\n",
       "    <tr style=\"text-align: right;\">\n",
       "      <th></th>\n",
       "      <th>file</th>\n",
       "      <th>PetID</th>\n",
       "      <th>AdoptionSpeed</th>\n",
       "      <th>meta_label</th>\n",
       "      <th>animal_label</th>\n",
       "      <th>red</th>\n",
       "      <th>green</th>\n",
       "      <th>blue</th>\n",
       "    </tr>\n",
       "  </thead>\n",
       "  <tbody>\n",
       "    <tr>\n",
       "      <th>14647</th>\n",
       "      <td>./train_metadata/fff4a6420-1.json</td>\n",
       "      <td>fff4a6420</td>\n",
       "      <td>2</td>\n",
       "      <td>dog</td>\n",
       "      <td>1</td>\n",
       "      <td>199</td>\n",
       "      <td>139</td>\n",
       "      <td>55</td>\n",
       "    </tr>\n",
       "    <tr>\n",
       "      <th>14648</th>\n",
       "      <td>./train_metadata/fff6f2f61-1.json</td>\n",
       "      <td>fff6f2f61</td>\n",
       "      <td>2</td>\n",
       "      <td>dog</td>\n",
       "      <td>1</td>\n",
       "      <td>28</td>\n",
       "      <td>25</td>\n",
       "      <td>25</td>\n",
       "    </tr>\n",
       "    <tr>\n",
       "      <th>14649</th>\n",
       "      <td>./train_metadata/fffa39a6a-1.json</td>\n",
       "      <td>fffa39a6a</td>\n",
       "      <td>3</td>\n",
       "      <td>cat</td>\n",
       "      <td>1</td>\n",
       "      <td>139</td>\n",
       "      <td>121</td>\n",
       "      <td>90</td>\n",
       "    </tr>\n",
       "    <tr>\n",
       "      <th>14650</th>\n",
       "      <td>./train_metadata/fffd78a11-1.json</td>\n",
       "      <td>fffd78a11</td>\n",
       "      <td>2</td>\n",
       "      <td>cat</td>\n",
       "      <td>1</td>\n",
       "      <td>245</td>\n",
       "      <td>234</td>\n",
       "      <td>240</td>\n",
       "    </tr>\n",
       "    <tr>\n",
       "      <th>14651</th>\n",
       "      <td>./train_metadata/fffd9b5a8-1.json</td>\n",
       "      <td>fffd9b5a8</td>\n",
       "      <td>1</td>\n",
       "      <td>dog like mammal</td>\n",
       "      <td>1</td>\n",
       "      <td>121</td>\n",
       "      <td>115</td>\n",
       "      <td>120</td>\n",
       "    </tr>\n",
       "  </tbody>\n",
       "</table>\n",
       "</div>"
      ],
      "text/plain": [
       "                                    file      PetID  AdoptionSpeed  \\\n",
       "14647  ./train_metadata/fff4a6420-1.json  fff4a6420              2   \n",
       "14648  ./train_metadata/fff6f2f61-1.json  fff6f2f61              2   \n",
       "14649  ./train_metadata/fffa39a6a-1.json  fffa39a6a              3   \n",
       "14650  ./train_metadata/fffd78a11-1.json  fffd78a11              2   \n",
       "14651  ./train_metadata/fffd9b5a8-1.json  fffd9b5a8              1   \n",
       "\n",
       "            meta_label  animal_label  red  green  blue  \n",
       "14647              dog             1  199    139    55  \n",
       "14648              dog             1   28     25    25  \n",
       "14649              cat             1  139    121    90  \n",
       "14650              cat             1  245    234   240  \n",
       "14651  dog like mammal             1  121    115   120  "
      ]
     },
     "execution_count": 35,
     "metadata": {},
     "output_type": "execute_result"
    }
   ],
   "source": [
    "train_meta_df['red'] = train_meta_df.file.apply(read_dominant_red)\n",
    "train_meta_df['green'] = train_meta_df.file.apply(read_dominant_green)\n",
    "train_meta_df['blue'] = train_meta_df.file.apply(read_dominant_blue)\n",
    "\n",
    "test_meta_df['red'] = test_meta_df.file.apply(read_dominant_red)\n",
    "test_meta_df['green'] = test_meta_df.file.apply(read_dominant_green)\n",
    "test_meta_df['blue'] = test_meta_df.file.apply(read_dominant_blue)\n",
    "train_meta_df.tail()"
   ]
  },
  {
   "cell_type": "markdown",
   "metadata": {},
   "source": [
    "### 3. Face Annotations"
   ]
  },
  {
   "cell_type": "code",
   "execution_count": 36,
   "metadata": {},
   "outputs": [
    {
     "data": {
      "text/plain": [
       "dict_keys(['boundingPoly', 'fdBoundingPoly', 'landmarks', 'rollAngle', 'panAngle', 'tiltAngle', 'detectionConfidence', 'landmarkingConfidence', 'joyLikelihood', 'sorrowLikelihood', 'angerLikelihood', 'surpriseLikelihood', 'underExposedLikelihood', 'blurredLikelihood', 'headwearLikelihood'])"
      ]
     },
     "execution_count": 36,
     "metadata": {},
     "output_type": "execute_result"
    }
   ],
   "source": [
    "img['faceAnnotations'][0].keys()"
   ]
  },
  {
   "cell_type": "code",
   "execution_count": 37,
   "metadata": {},
   "outputs": [
    {
     "data": {
      "text/plain": [
       "15"
      ]
     },
     "execution_count": 37,
     "metadata": {},
     "output_type": "execute_result"
    }
   ],
   "source": [
    "len(img['faceAnnotations'][0].keys())"
   ]
  },
  {
   "cell_type": "code",
   "execution_count": 38,
   "metadata": {},
   "outputs": [
    {
     "data": {
      "text/plain": [
       "{'boundingPoly': {'vertices': [{'x': 121, 'y': 36},\n",
       "   {'x': 223, 'y': 36},\n",
       "   {'x': 223, 'y': 155},\n",
       "   {'x': 121, 'y': 155}]},\n",
       " 'fdBoundingPoly': {'vertices': [{'x': 136, 'y': 76},\n",
       "   {'x': 213, 'y': 76},\n",
       "   {'x': 213, 'y': 153},\n",
       "   {'x': 136, 'y': 153}]},\n",
       " 'landmarks': [{'type': 'LEFT_EYE',\n",
       "   'position': {'x': 154.4033, 'y': 102.54831, 'z': 1.8858487e-05}},\n",
       "  {'type': 'RIGHT_EYE',\n",
       "   'position': {'x': 186.2425, 'y': 97.6536, 'z': -1.8247472}},\n",
       "  {'type': 'LEFT_OF_LEFT_EYEBROW',\n",
       "   'position': {'x': 143.30145, 'y': 97.325485, 'z': 1.384743}},\n",
       "  {'type': 'RIGHT_OF_LEFT_EYEBROW',\n",
       "   'position': {'x': 161.49623, 'y': 96.73959, 'z': -8.430881}},\n",
       "  {'type': 'LEFT_OF_RIGHT_EYEBROW',\n",
       "   'position': {'x': 176.6378, 'y': 94.48152, 'z': -9.266601}},\n",
       "  {'type': 'RIGHT_OF_RIGHT_EYEBROW',\n",
       "   'position': {'x': 194.76018, 'y': 89.76374, 'z': -1.5905604}},\n",
       "  {'type': 'MIDPOINT_BETWEEN_EYES',\n",
       "   'position': {'x': 169.7655, 'y': 100.67699, 'z': -7.543981}},\n",
       "  {'type': 'NOSE_TIP',\n",
       "   'position': {'x': 172.50813, 'y': 121.341896, 'z': -10.22033}},\n",
       "  {'type': 'UPPER_LIP',\n",
       "   'position': {'x': 174.10406, 'y': 129.05367, 'z': -0.0074262735}},\n",
       "  {'type': 'LOWER_LIP',\n",
       "   'position': {'x': 175.66023, 'y': 139.45303, 'z': 5.801109}},\n",
       "  {'type': 'MOUTH_LEFT',\n",
       "   'position': {'x': 160.32474, 'y': 130.96898, 'z': 10.506279}},\n",
       "  {'type': 'MOUTH_RIGHT',\n",
       "   'position': {'x': 190.35675, 'y': 126.41684, 'z': 9.298223}},\n",
       "  {'type': 'MOUTH_CENTER',\n",
       "   'position': {'x': 174.98132, 'y': 133.88506, 'z': 3.9235756}},\n",
       "  {'type': 'NOSE_BOTTOM_RIGHT',\n",
       "   'position': {'x': 181.16437, 'y': 119.140434, 'z': 1.3653624}},\n",
       "  {'type': 'NOSE_BOTTOM_LEFT',\n",
       "   'position': {'x': 164.06328, 'y': 121.44206, 'z': 2.4579446}},\n",
       "  {'type': 'NOSE_BOTTOM_CENTER',\n",
       "   'position': {'x': 173.1089, 'y': 124.26767, 'z': -1.9115756}},\n",
       "  {'type': 'LEFT_EYE_TOP_BOUNDARY',\n",
       "   'position': {'x': 154.54169, 'y': 101.51831, 'z': -2.6341634}},\n",
       "  {'type': 'LEFT_EYE_RIGHT_CORNER',\n",
       "   'position': {'x': 160.78511, 'y': 102.72018, 'z': -0.02796118}},\n",
       "  {'type': 'LEFT_EYE_BOTTOM_BOUNDARY',\n",
       "   'position': {'x': 154.37444, 'y': 104.88365, 'z': 0.45059276}},\n",
       "  {'type': 'LEFT_EYE_LEFT_CORNER',\n",
       "   'position': {'x': 148.79356, 'y': 102.93315, 'z': 3.1106071}},\n",
       "  {'type': 'LEFT_EYE_PUPIL',\n",
       "   'position': {'x': 154.38046, 'y': 103.192696, 'z': -0.7368556}},\n",
       "  {'type': 'RIGHT_EYE_TOP_BOUNDARY',\n",
       "   'position': {'x': 184.96625, 'y': 97.16722, 'z': -4.3284664}},\n",
       "  {'type': 'RIGHT_EYE_RIGHT_CORNER',\n",
       "   'position': {'x': 191.43483, 'y': 96.82257, 'z': 0.7165391}},\n",
       "  {'type': 'RIGHT_EYE_BOTTOM_BOUNDARY',\n",
       "   'position': {'x': 186.48415, 'y': 99.973526, 'z': -1.3116683}},\n",
       "  {'type': 'RIGHT_EYE_LEFT_CORNER',\n",
       "   'position': {'x': 179.87875, 'y': 99.70599, 'z': -1.087704}},\n",
       "  {'type': 'RIGHT_EYE_PUPIL',\n",
       "   'position': {'x': 185.60602, 'y': 98.74277, 'z': -2.5241528}},\n",
       "  {'type': 'LEFT_EYEBROW_UPPER_MIDPOINT',\n",
       "   'position': {'x': 151.89821, 'y': 93.880745, 'z': -6.882113}},\n",
       "  {'type': 'RIGHT_EYEBROW_UPPER_MIDPOINT',\n",
       "   'position': {'x': 184.88025, 'y': 89.17313, 'z': -8.72483}},\n",
       "  {'type': 'LEFT_EAR_TRAGION',\n",
       "   'position': {'x': 138.13959, 'y': 107.51668, 'z': 41.927593}},\n",
       "  {'type': 'RIGHT_EAR_TRAGION',\n",
       "   'position': {'x': 207.19041, 'y': 97.66785, 'z': 38.05335}},\n",
       "  {'type': 'FOREHEAD_GLABELLA',\n",
       "   'position': {'x': 168.85486, 'y': 95.7269, 'z': -10.12229}},\n",
       "  {'type': 'CHIN_GNATHION',\n",
       "   'position': {'x': 177.95396, 'y': 150.2901, 'z': 13.9463825}},\n",
       "  {'type': 'CHIN_LEFT_GONION',\n",
       "   'position': {'x': 144.41019, 'y': 129.47804, 'z': 36.071865}},\n",
       "  {'type': 'CHIN_RIGHT_GONION',\n",
       "   'position': {'x': 206.70763, 'y': 120.60164, 'z': 32.58717}}],\n",
       " 'rollAngle': -9.181518,\n",
       " 'panAngle': -3.3383543,\n",
       " 'tiltAngle': -18.344805,\n",
       " 'detectionConfidence': 0.99989784,\n",
       " 'landmarkingConfidence': 0.6969547,\n",
       " 'joyLikelihood': 'VERY_LIKELY',\n",
       " 'sorrowLikelihood': 'VERY_UNLIKELY',\n",
       " 'angerLikelihood': 'VERY_UNLIKELY',\n",
       " 'surpriseLikelihood': 'VERY_UNLIKELY',\n",
       " 'underExposedLikelihood': 'VERY_UNLIKELY',\n",
       " 'blurredLikelihood': 'VERY_UNLIKELY',\n",
       " 'headwearLikelihood': 'VERY_UNLIKELY'}"
      ]
     },
     "execution_count": 38,
     "metadata": {},
     "output_type": "execute_result"
    }
   ],
   "source": [
    "img['faceAnnotations'][0]"
   ]
  },
  {
   "cell_type": "code",
   "execution_count": 28,
   "metadata": {},
   "outputs": [],
   "source": [
    "train_meta_df['face_annot'] = 0"
   ]
  },
  {
   "cell_type": "code",
   "execution_count": 29,
   "metadata": {
    "collapsed": true,
    "jupyter": {
     "outputs_hidden": true
    },
    "tags": []
   },
   "outputs": [
    {
     "name": "stderr",
     "output_type": "stream",
     "text": [
      "C:\\Users\\Admin\\AppData\\Local\\Temp/ipykernel_10764/2684955116.py:3: SettingWithCopyWarning: \n",
      "A value is trying to be set on a copy of a slice from a DataFrame\n",
      "\n",
      "See the caveats in the documentation: https://pandas.pydata.org/pandas-docs/stable/user_guide/indexing.html#returning-a-view-versus-a-copy\n",
      "  train_meta_df['face_annot'][i] = 1\n"
     ]
    }
   ],
   "source": [
    "for i, meta_dict in enumerate(train_meta):\n",
    "    if 'faceAnnotations' in meta_dict:\n",
    "        train_meta_df['face_annot'][i] = 1"
   ]
  },
  {
   "cell_type": "code",
   "execution_count": 41,
   "metadata": {},
   "outputs": [
    {
     "data": {
      "text/html": [
       "<div>\n",
       "<style scoped>\n",
       "    .dataframe tbody tr th:only-of-type {\n",
       "        vertical-align: middle;\n",
       "    }\n",
       "\n",
       "    .dataframe tbody tr th {\n",
       "        vertical-align: top;\n",
       "    }\n",
       "\n",
       "    .dataframe thead th {\n",
       "        text-align: right;\n",
       "    }\n",
       "</style>\n",
       "<table border=\"1\" class=\"dataframe\">\n",
       "  <thead>\n",
       "    <tr style=\"text-align: right;\">\n",
       "      <th></th>\n",
       "      <th>file</th>\n",
       "      <th>PetID</th>\n",
       "      <th>AdoptionSpeed</th>\n",
       "      <th>meta_label</th>\n",
       "      <th>animal_label</th>\n",
       "      <th>red</th>\n",
       "      <th>green</th>\n",
       "      <th>blue</th>\n",
       "      <th>face_annot</th>\n",
       "    </tr>\n",
       "  </thead>\n",
       "  <tbody>\n",
       "    <tr>\n",
       "      <th>14647</th>\n",
       "      <td>./train_metadata/fff4a6420-1.json</td>\n",
       "      <td>fff4a6420</td>\n",
       "      <td>2</td>\n",
       "      <td>dog</td>\n",
       "      <td>1</td>\n",
       "      <td>199</td>\n",
       "      <td>139</td>\n",
       "      <td>55</td>\n",
       "      <td>0</td>\n",
       "    </tr>\n",
       "    <tr>\n",
       "      <th>14648</th>\n",
       "      <td>./train_metadata/fff6f2f61-1.json</td>\n",
       "      <td>fff6f2f61</td>\n",
       "      <td>2</td>\n",
       "      <td>dog</td>\n",
       "      <td>1</td>\n",
       "      <td>28</td>\n",
       "      <td>25</td>\n",
       "      <td>25</td>\n",
       "      <td>0</td>\n",
       "    </tr>\n",
       "    <tr>\n",
       "      <th>14649</th>\n",
       "      <td>./train_metadata/fffa39a6a-1.json</td>\n",
       "      <td>fffa39a6a</td>\n",
       "      <td>3</td>\n",
       "      <td>cat</td>\n",
       "      <td>1</td>\n",
       "      <td>139</td>\n",
       "      <td>121</td>\n",
       "      <td>90</td>\n",
       "      <td>0</td>\n",
       "    </tr>\n",
       "    <tr>\n",
       "      <th>14650</th>\n",
       "      <td>./train_metadata/fffd78a11-1.json</td>\n",
       "      <td>fffd78a11</td>\n",
       "      <td>2</td>\n",
       "      <td>cat</td>\n",
       "      <td>1</td>\n",
       "      <td>245</td>\n",
       "      <td>234</td>\n",
       "      <td>240</td>\n",
       "      <td>0</td>\n",
       "    </tr>\n",
       "    <tr>\n",
       "      <th>14651</th>\n",
       "      <td>./train_metadata/fffd9b5a8-1.json</td>\n",
       "      <td>fffd9b5a8</td>\n",
       "      <td>1</td>\n",
       "      <td>dog like mammal</td>\n",
       "      <td>1</td>\n",
       "      <td>121</td>\n",
       "      <td>115</td>\n",
       "      <td>120</td>\n",
       "      <td>0</td>\n",
       "    </tr>\n",
       "  </tbody>\n",
       "</table>\n",
       "</div>"
      ],
      "text/plain": [
       "                                    file      PetID  AdoptionSpeed  \\\n",
       "14647  ./train_metadata/fff4a6420-1.json  fff4a6420              2   \n",
       "14648  ./train_metadata/fff6f2f61-1.json  fff6f2f61              2   \n",
       "14649  ./train_metadata/fffa39a6a-1.json  fffa39a6a              3   \n",
       "14650  ./train_metadata/fffd78a11-1.json  fffd78a11              2   \n",
       "14651  ./train_metadata/fffd9b5a8-1.json  fffd9b5a8              1   \n",
       "\n",
       "            meta_label  animal_label  red  green  blue  face_annot  \n",
       "14647              dog             1  199    139    55           0  \n",
       "14648              dog             1   28     25    25           0  \n",
       "14649              cat             1  139    121    90           0  \n",
       "14650              cat             1  245    234   240           0  \n",
       "14651  dog like mammal             1  121    115   120           0  "
      ]
     },
     "execution_count": 41,
     "metadata": {},
     "output_type": "execute_result"
    }
   ],
   "source": [
    "train_meta_df.tail()"
   ]
  },
  {
   "cell_type": "code",
   "execution_count": 30,
   "metadata": {},
   "outputs": [
    {
     "data": {
      "text/plain": [
       "Text(0.5, 1.0, 'image without face annotation')"
      ]
     },
     "execution_count": 30,
     "metadata": {},
     "output_type": "execute_result"
    },
    {
     "data": {
      "image/png": "[encoded data removed]",
      "text/plain": [
       "<Figure size 864x288 with 2 Axes>"
      ]
     },
     "metadata": {
      "needs_background": "light"
     },
     "output_type": "display_data"
    }
   ],
   "source": [
    "plt.figure(figsize=(12, 4))\n",
    "plt.subplot(121)\n",
    "sns.countplot(x='AdoptionSpeed', data=train_meta_df.loc[train_meta_df.face_annot == 1])\n",
    "plt.title('image with face annotation')\n",
    "plt.subplot(122)\n",
    "sns.countplot(x='AdoptionSpeed', data=train_meta_df.loc[train_meta_df.face_annot == 0])\n",
    "plt.title('image without face annotation')"
   ]
  },
  {
   "cell_type": "code",
   "execution_count": 44,
   "metadata": {},
   "outputs": [],
   "source": [
    "train_meta_df.drop(columns='face_annot', inplace=True)"
   ]
  },
  {
   "cell_type": "markdown",
   "metadata": {},
   "source": [
    "### 4. Text Annotations"
   ]
  },
  {
   "cell_type": "code",
   "execution_count": 45,
   "metadata": {},
   "outputs": [
    {
     "data": {
      "text/plain": [
       "{'locale': 'en',\n",
       " 'description': '/09/XXXX\\n',\n",
       " 'boundingPoly': {'vertices': [{'x': 248, 'y': 427},\n",
       "   {'x': 307, 'y': 427},\n",
       "   {'x': 307, 'y': 441},\n",
       "   {'x': 248, 'y': 441}]}}"
      ]
     },
     "execution_count": 45,
     "metadata": {},
     "output_type": "execute_result"
    }
   ],
   "source": [
    "img['textAnnotations'][0]"
   ]
  },
  {
   "cell_type": "code",
   "execution_count": 31,
   "metadata": {},
   "outputs": [
    {
     "name": "stdout",
     "output_type": "stream",
     "text": [
      "{'id', 'fy', 'mt', 'et', 'sw', 'gl', 'mi', 'da', 'nl', 'is', 'lt', 'pl', 'cy', 'es', 'sk', 'fr', 'ht', 'zh-Hant', 'to', 'sv', 'sr', 'ja', 'uz', 'tr', 'jv', 'gd', 'fi', 'fil', 'ms', 'eo', 'yo', 'de', 'la', 'sq', 'eu', 'co', 'no', 'af', 'ku', 'zh', 'ro', 'ga', 'ko', 'lb', 'br', 'su', 'it', 'th', 'qu', 'cs', 'hu', 'hr', 'sl', 'pt-PT', 'lv', 'ca', 'oc', 'en'}\n"
     ]
    }
   ],
   "source": [
    "text_locale = []\n",
    "for i in range(len(train_meta_df)):\n",
    "    with open(train_meta_df.file.values[i], encoding='utf8') as f:\n",
    "        img_2 = json.load(f)\n",
    "        if 'textAnnotations' in img_2.keys():            \n",
    "            text_locale.append(img_2['textAnnotations'][0]['locale'])\n",
    "print(set(text_locale))"
   ]
  },
  {
   "cell_type": "code",
   "execution_count": 62,
   "metadata": {},
   "outputs": [
    {
     "data": {
      "text/plain": [
       "(1075, 58)"
      ]
     },
     "execution_count": 62,
     "metadata": {},
     "output_type": "execute_result"
    }
   ],
   "source": [
    "len(text_locale), len(set(text_locale))"
   ]
  },
  {
   "cell_type": "code",
   "execution_count": 32,
   "metadata": {},
   "outputs": [],
   "source": [
    "def read_text_locale(path):\n",
    "    with open(path, encoding='utf8') as f:\n",
    "        img = json.load(f)\n",
    "        if 'textAnnotations' in img.keys():            \n",
    "            locale = img['textAnnotations'][0]['locale']\n",
    "        else:\n",
    "            return 'None'\n",
    "    return locale"
   ]
  },
  {
   "cell_type": "code",
   "execution_count": 33,
   "metadata": {},
   "outputs": [],
   "source": [
    "train_meta_df['text_annot'] = train_meta_df.file.apply(read_text_locale)\n",
    "test_meta_df['text_annot'] = test_meta_df.file.apply(read_text_locale)"
   ]
  },
  {
   "cell_type": "code",
   "execution_count": 40,
   "metadata": {
    "collapsed": true,
    "jupyter": {
     "outputs_hidden": true
    },
    "tags": []
   },
   "outputs": [
    {
     "data": {
      "text/plain": [
       "None       13577\n",
       "en           686\n",
       "ms            44\n",
       "fr            27\n",
       "zh            24\n",
       "fil           18\n",
       "la            18\n",
       "uz            11\n",
       "mt            10\n",
       "sv            10\n",
       "fi            10\n",
       "it             9\n",
       "sq             9\n",
       "es             8\n",
       "pt-PT          8\n",
       "ja             8\n",
       "de             8\n",
       "da             7\n",
       "nl             7\n",
       "zh-Hant        7\n",
       "qu             7\n",
       "hr             6\n",
       "sw             6\n",
       "eo             6\n",
       "jv             6\n",
       "su             6\n",
       "id             6\n",
       "ro             6\n",
       "lb             6\n",
       "mi             6\n",
       "et             6\n",
       "ca             5\n",
       "no             5\n",
       "br             5\n",
       "lv             5\n",
       "fy             5\n",
       "yo             4\n",
       "sr             4\n",
       "oc             4\n",
       "af             3\n",
       "co             3\n",
       "eu             3\n",
       "is             3\n",
       "cy             3\n",
       "sl             3\n",
       "gl             3\n",
       "hu             3\n",
       "pl             3\n",
       "ga             2\n",
       "gd             2\n",
       "cs             2\n",
       "tr             2\n",
       "to             1\n",
       "lt             1\n",
       "ht             1\n",
       "ku             1\n",
       "ko             1\n",
       "sk             1\n",
       "th             1\n",
       "Name: text_annot, dtype: int64"
      ]
     },
     "execution_count": 40,
     "metadata": {},
     "output_type": "execute_result"
    }
   ],
   "source": [
    "train_meta_df.text_annot.value_counts()"
   ]
  },
  {
   "cell_type": "code",
   "execution_count": 45,
   "metadata": {},
   "outputs": [],
   "source": [
    "train_meta_df['text_annot_2'] = train_meta_df['text_annot'].apply(lambda x: x=='None')"
   ]
  },
  {
   "cell_type": "code",
   "execution_count": 46,
   "metadata": {
    "tags": []
   },
   "outputs": [
    {
     "data": {
      "text/plain": [
       "Text(0.5, 1.0, 'image without text annotation')"
      ]
     },
     "execution_count": 46,
     "metadata": {},
     "output_type": "execute_result"
    },
    {
     "data": {
      "image/png": "[encoded data removed]",
      "text/plain": [
       "<Figure size 864x288 with 2 Axes>"
      ]
     },
     "metadata": {
      "needs_background": "light"
     },
     "output_type": "display_data"
    }
   ],
   "source": [
    "plt.figure(figsize=(12, 4))\n",
    "plt.subplot(121)\n",
    "sns.countplot(x='AdoptionSpeed', data=train_meta_df.loc[train_meta_df.text_annot_2 == True])\n",
    "plt.title('image with text annotation')\n",
    "plt.subplot(122)\n",
    "sns.countplot(x='AdoptionSpeed', data=train_meta_df.loc[train_meta_df.text_annot_2 == False])\n",
    "plt.title('image without text annotation')"
   ]
  },
  {
   "cell_type": "code",
   "execution_count": 105,
   "metadata": {},
   "outputs": [
    {
     "data": {
      "text/html": [
       "<div>\n",
       "<style scoped>\n",
       "    .dataframe tbody tr th:only-of-type {\n",
       "        vertical-align: middle;\n",
       "    }\n",
       "\n",
       "    .dataframe tbody tr th {\n",
       "        vertical-align: top;\n",
       "    }\n",
       "\n",
       "    .dataframe thead th {\n",
       "        text-align: right;\n",
       "    }\n",
       "</style>\n",
       "<table border=\"1\" class=\"dataframe\">\n",
       "  <thead>\n",
       "    <tr style=\"text-align: right;\">\n",
       "      <th></th>\n",
       "      <th>file</th>\n",
       "      <th>PetID</th>\n",
       "      <th>AdoptionSpeed</th>\n",
       "      <th>meta_label</th>\n",
       "      <th>animal_label</th>\n",
       "      <th>red</th>\n",
       "      <th>green</th>\n",
       "      <th>blue</th>\n",
       "      <th>text_annot</th>\n",
       "    </tr>\n",
       "  </thead>\n",
       "  <tbody>\n",
       "    <tr>\n",
       "      <th>14647</th>\n",
       "      <td>./train_metadata/fff4a6420-1.json</td>\n",
       "      <td>fff4a6420</td>\n",
       "      <td>2</td>\n",
       "      <td>dog</td>\n",
       "      <td>1</td>\n",
       "      <td>199</td>\n",
       "      <td>139</td>\n",
       "      <td>55</td>\n",
       "      <td>None</td>\n",
       "    </tr>\n",
       "    <tr>\n",
       "      <th>14648</th>\n",
       "      <td>./train_metadata/fff6f2f61-1.json</td>\n",
       "      <td>fff6f2f61</td>\n",
       "      <td>2</td>\n",
       "      <td>dog</td>\n",
       "      <td>1</td>\n",
       "      <td>28</td>\n",
       "      <td>25</td>\n",
       "      <td>25</td>\n",
       "      <td>None</td>\n",
       "    </tr>\n",
       "    <tr>\n",
       "      <th>14649</th>\n",
       "      <td>./train_metadata/fffa39a6a-1.json</td>\n",
       "      <td>fffa39a6a</td>\n",
       "      <td>3</td>\n",
       "      <td>cat</td>\n",
       "      <td>1</td>\n",
       "      <td>139</td>\n",
       "      <td>121</td>\n",
       "      <td>90</td>\n",
       "      <td>None</td>\n",
       "    </tr>\n",
       "    <tr>\n",
       "      <th>14650</th>\n",
       "      <td>./train_metadata/fffd78a11-1.json</td>\n",
       "      <td>fffd78a11</td>\n",
       "      <td>2</td>\n",
       "      <td>cat</td>\n",
       "      <td>1</td>\n",
       "      <td>245</td>\n",
       "      <td>234</td>\n",
       "      <td>240</td>\n",
       "      <td>None</td>\n",
       "    </tr>\n",
       "    <tr>\n",
       "      <th>14651</th>\n",
       "      <td>./train_metadata/fffd9b5a8-1.json</td>\n",
       "      <td>fffd9b5a8</td>\n",
       "      <td>1</td>\n",
       "      <td>dog like mammal</td>\n",
       "      <td>1</td>\n",
       "      <td>121</td>\n",
       "      <td>115</td>\n",
       "      <td>120</td>\n",
       "      <td>None</td>\n",
       "    </tr>\n",
       "  </tbody>\n",
       "</table>\n",
       "</div>"
      ],
      "text/plain": [
       "                                    file      PetID  AdoptionSpeed  \\\n",
       "14647  ./train_metadata/fff4a6420-1.json  fff4a6420              2   \n",
       "14648  ./train_metadata/fff6f2f61-1.json  fff6f2f61              2   \n",
       "14649  ./train_metadata/fffa39a6a-1.json  fffa39a6a              3   \n",
       "14650  ./train_metadata/fffd78a11-1.json  fffd78a11              2   \n",
       "14651  ./train_metadata/fffd9b5a8-1.json  fffd9b5a8              1   \n",
       "\n",
       "            meta_label  animal_label  red  green  blue text_annot  \n",
       "14647              dog             1  199    139    55       None  \n",
       "14648              dog             1   28     25    25       None  \n",
       "14649              cat             1  139    121    90       None  \n",
       "14650              cat             1  245    234   240       None  \n",
       "14651  dog like mammal             1  121    115   120       None  "
      ]
     },
     "execution_count": 105,
     "metadata": {},
     "output_type": "execute_result"
    }
   ],
   "source": [
    "train_meta_df.tail()"
   ]
  },
  {
   "cell_type": "markdown",
   "metadata": {},
   "source": [
    "### 5. Crop Hint Annotation"
   ]
  },
  {
   "cell_type": "code",
   "execution_count": 69,
   "metadata": {},
   "outputs": [
    {
     "data": {
      "text/plain": [
       "{'boundingPoly': {'vertices': [{},\n",
       "   {'x': 359},\n",
       "   {'x': 359, 'y': 479},\n",
       "   {'y': 479}]},\n",
       " 'confidence': 1,\n",
       " 'importanceFraction': 0.59}"
      ]
     },
     "execution_count": 69,
     "metadata": {},
     "output_type": "execute_result"
    }
   ],
   "source": [
    "img['cropHintsAnnotation']['cropHints'][0]"
   ]
  },
  {
   "cell_type": "code",
   "execution_count": 70,
   "metadata": {},
   "outputs": [
    {
     "data": {
      "text/plain": [
       "(480, 360, 3)"
      ]
     },
     "execution_count": 70,
     "metadata": {},
     "output_type": "execute_result"
    }
   ],
   "source": [
    "cv2.imread('./train_images/002278114-1.jpg').shape"
   ]
  },
  {
   "cell_type": "code",
   "execution_count": 71,
   "metadata": {},
   "outputs": [
    {
     "data": {
      "text/plain": [
       "[348, 359, 399, 298, 399, 639, 299, 399, 359, 399]"
      ]
     },
     "execution_count": 71,
     "metadata": {},
     "output_type": "execute_result"
    }
   ],
   "source": [
    "vertex_x = []\n",
    "vertex_y = []\n",
    "for path in train_meta_df.file:\n",
    "    with open(path, encoding='utf8') as f:\n",
    "        img = json.load(f)\n",
    "        vertex_x.append(img['cropHintsAnnotation']['cropHints'][0]['boundingPoly']['vertices'][2]['x'])\n",
    "        vertex_y.append(img['cropHintsAnnotation']['cropHints'][0]['boundingPoly']['vertices'][2]['y'])\n",
    "vertex_x[:10]"
   ]
  },
  {
   "cell_type": "code",
   "execution_count": 72,
   "metadata": {},
   "outputs": [
    {
     "data": {
      "text/plain": [
       "[478, 479, 267, 399, 266, 479, 399, 399, 479, 265]"
      ]
     },
     "execution_count": 72,
     "metadata": {},
     "output_type": "execute_result"
    }
   ],
   "source": [
    "vertex_y[:10]"
   ]
  },
  {
   "cell_type": "code",
   "execution_count": 73,
   "metadata": {},
   "outputs": [
    {
     "data": {
      "text/plain": [
       "380"
      ]
     },
     "execution_count": 73,
     "metadata": {},
     "output_type": "execute_result"
    }
   ],
   "source": [
    "count = 0\n",
    "for i in range(len(train_meta_df)):\n",
    "    height, width, _ = cv2.imread('./train_images/%s-1.jpg' %train_meta_df.PetID[i]).shape\n",
    "    diff_x = width - vertex_x[i] - 1\n",
    "    diff_y = height - vertex_y[i] - 1\n",
    "    if diff_x > 10 or diff_y > 10:\n",
    "        count += 1\n",
    "count"
   ]
  },
  {
   "cell_type": "code",
   "execution_count": 74,
   "metadata": {},
   "outputs": [
    {
     "data": {
      "text/plain": [
       "2.5935025935025937"
      ]
     },
     "execution_count": 74,
     "metadata": {},
     "output_type": "execute_result"
    }
   ],
   "source": [
    "count/len(train_meta_df)*100"
   ]
  },
  {
   "cell_type": "markdown",
   "metadata": {},
   "source": [
    "### Summary"
   ]
  },
  {
   "cell_type": "code",
   "execution_count": 110,
   "metadata": {},
   "outputs": [],
   "source": [
    "train_meta_df.drop(columns='file', inplace=True)\n",
    "test_meta_df.drop(columns='file', inplace=True)"
   ]
  },
  {
   "cell_type": "code",
   "execution_count": 42,
   "metadata": {},
   "outputs": [],
   "source": [
    "X_meta_full = pd.concat([train_meta_df, test_meta_df])"
   ]
  },
  {
   "cell_type": "code",
   "execution_count": 51,
   "metadata": {},
   "outputs": [],
   "source": [
    "le = LabelEncoder()\n",
    "X_meta_full.text_annot = le.fit_transform(X_meta_full.text_annot)"
   ]
  },
  {
   "cell_type": "code",
   "execution_count": 64,
   "metadata": {},
   "outputs": [],
   "source": [
    "scaler = StandardScaler()\n",
    "X_meta_full.text_annot = scaler.fit_transform(pd.DataFrame(X_meta_full.text_annot))"
   ]
  },
  {
   "cell_type": "code",
   "execution_count": 67,
   "metadata": {},
   "outputs": [],
   "source": [
    "train_meta_df = X_meta_full[:len(X_meta_train)]\n",
    "test_meta_df = X_meta_full[len(X_meta_train):]"
   ]
  },
  {
   "cell_type": "code",
   "execution_count": 71,
   "metadata": {},
   "outputs": [],
   "source": [
    "train_meta_df.to_csv('train_meta_df.csv', index=False)\n",
    "test_meta_df.to_csv('test_meta_df.csv', index=False)"
   ]
  },
  {
   "cell_type": "code",
   "execution_count": 111,
   "metadata": {},
   "outputs": [],
   "source": [
    "pd.DataFrame(train_meta_df).to_csv('train_meta_df.csv', index=False)\n",
    "pd.DataFrame(test_meta_df).to_csv('test_meta_df.csv', index=False)"
   ]
  }
 ],
 "metadata": {
  "kernelspec": {
   "display_name": "Python 3 (ipykernel)",
   "language": "python",
   "name": "python3"
  },
  "language_info": {
   "codemirror_mode": {
    "name": "ipython",
    "version": 3
   },
   "file_extension": ".py",
   "mimetype": "text/x-python",
   "name": "python",
   "nbconvert_exporter": "python",
   "pygments_lexer": "ipython3",
   "version": "3.9.7"
  }
 },
 "nbformat": 4,
 "nbformat_minor": 4
}
